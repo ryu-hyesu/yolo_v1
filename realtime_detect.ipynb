{
  "cells": [
    {
      "cell_type": "markdown",
      "metadata": {
        "id": "view-in-github",
        "colab_type": "text"
      },
      "source": [
        "<a href=\"https://colab.research.google.com/github/jarammm/YOLOv1/blob/main/realtime_detect.ipynb\" target=\"_parent\"><img src=\"https://colab.research.google.com/assets/colab-badge.svg\" alt=\"Open In Colab\"/></a>"
      ]
    },
    {
      "cell_type": "markdown",
      "metadata": {
        "id": "dGGCWaxddjBb"
      },
      "source": [
        "> 상단의 `Open in Colab`을 클릭하여 구글 코랩에서 실행하세요!"
      ]
    },
    {
      "cell_type": "markdown",
      "metadata": {
        "id": "NT8t2IGGdjBf"
      },
      "source": [
        "# 1 Clone git repository"
      ]
    },
    {
      "cell_type": "code",
      "execution_count": null,
      "metadata": {
        "id": "kU1W3KyrEVNX",
        "colab": {
          "base_uri": "https://localhost:8080/"
        },
        "outputId": "4d989530-c4fe-4be5-8a80-c0c8635ede4e"
      },
      "outputs": [
        {
          "output_type": "stream",
          "name": "stdout",
          "text": [
            "Cloning into 'YOLOv1'...\n",
            "remote: Enumerating objects: 123, done.\u001b[K\n",
            "remote: Counting objects: 100% (123/123), done.\u001b[K\n",
            "remote: Compressing objects: 100% (88/88), done.\u001b[K\n",
            "remote: Total 123 (delta 53), reused 90 (delta 29), pack-reused 0\u001b[K\n",
            "Receiving objects: 100% (123/123), 50.96 KiB | 2.21 MiB/s, done.\n",
            "Resolving deltas: 100% (53/53), done.\n"
          ]
        }
      ],
      "source": [
        "!git clone https://github.com/jarammm/YOLOv1.git"
      ]
    },
    {
      "cell_type": "markdown",
      "metadata": {
        "id": "3wC5hBRLdjBh"
      },
      "source": [
        "# 2 Move directory to git repository"
      ]
    },
    {
      "cell_type": "code",
      "execution_count": null,
      "metadata": {
        "id": "SqeoBt78Ev01",
        "colab": {
          "base_uri": "https://localhost:8080/"
        },
        "outputId": "fd8768d7-38c7-4ebc-aef9-d8d15b2764c8"
      },
      "outputs": [
        {
          "output_type": "stream",
          "name": "stdout",
          "text": [
            "/content/YOLOv1\n"
          ]
        }
      ],
      "source": [
        "%cd YOLOv1/"
      ]
    },
    {
      "cell_type": "markdown",
      "metadata": {
        "id": "SWO5samcdjBj"
      },
      "source": [
        "# 3 Import libraries"
      ]
    },
    {
      "cell_type": "code",
      "execution_count": null,
      "metadata": {
        "id": "aICiHkQNpyIK"
      },
      "outputs": [],
      "source": [
        "# import dependencies\n",
        "from utils import *\n",
        "from yolo import *\n",
        "import torch\n",
        "from torch import nn\n",
        "import torchvision\n",
        "from IPython.display import display, Javascript\n",
        "from google.colab.output import eval_js\n",
        "from google.colab.patches import cv2_imshow\n",
        "from base64 import b64decode, b64encode\n",
        "import cv2\n",
        "import numpy as np\n",
        "import PIL\n",
        "import io\n",
        "import html\n",
        "import time\n",
        "import matplotlib.pyplot as plt"
      ]
    },
    {
      "cell_type": "markdown",
      "metadata": {
        "id": "npYKsGcZdjBk"
      },
      "source": [
        "# 4 Define functions for real-time object-detection"
      ]
    },
    {
      "cell_type": "markdown",
      "metadata": {
        "id": "BXQ0wCM9djBl"
      },
      "source": [
        "> 주피터노트북 위에서 실시간 객체탐지를 하기 위해 필요한 함수를 정의합니다."
      ]
    },
    {
      "cell_type": "code",
      "execution_count": null,
      "metadata": {
        "id": "r9HqbvpsdjBl"
      },
      "outputs": [],
      "source": [
        "# JavaScript to properly create our live video stream using our webcam as input\n",
        "def video_stream():\n",
        "  js = Javascript('''\n",
        "    var video;\n",
        "    var div = null;\n",
        "    var stream;\n",
        "    var captureCanvas;\n",
        "    var imgElement;\n",
        "    var labelElement;\n",
        "    \n",
        "    var pendingResolve = null;\n",
        "    var shutdown = false;\n",
        "    \n",
        "    function removeDom() {\n",
        "       stream.getVideoTracks()[0].stop();\n",
        "       video.remove();\n",
        "       div.remove();\n",
        "       video = null;\n",
        "       div = null;\n",
        "       stream = null;\n",
        "       imgElement = null;\n",
        "       captureCanvas = null;\n",
        "       labelElement = null;\n",
        "    }\n",
        "    \n",
        "    function onAnimationFrame() {\n",
        "      if (!shutdown) {\n",
        "        window.requestAnimationFrame(onAnimationFrame);\n",
        "      }\n",
        "      if (pendingResolve) {\n",
        "        var result = \"\";\n",
        "        if (!shutdown) {\n",
        "          captureCanvas.getContext('2d').drawImage(video, 0, 0, 640, 480);\n",
        "          result = captureCanvas.toDataURL('image/jpeg', 0.8)\n",
        "        }\n",
        "        var lp = pendingResolve;\n",
        "        pendingResolve = null;\n",
        "        lp(result);\n",
        "      }\n",
        "    }\n",
        "    \n",
        "    async function createDom() {\n",
        "      if (div !== null) {\n",
        "        return stream;\n",
        "      }\n",
        "\n",
        "      div = document.createElement('div');\n",
        "      div.style.border = '2px solid black';\n",
        "      div.style.padding = '3px';\n",
        "      div.style.width = '100%';\n",
        "      div.style.maxWidth = '600px';\n",
        "      document.body.appendChild(div);\n",
        "      \n",
        "      const modelOut = document.createElement('div');\n",
        "      modelOut.innerHTML = \"<span>Status:</span>\";\n",
        "      labelElement = document.createElement('span');\n",
        "      labelElement.innerText = 'No data';\n",
        "      labelElement.style.fontWeight = 'bold';\n",
        "      modelOut.appendChild(labelElement);\n",
        "      div.appendChild(modelOut);\n",
        "           \n",
        "      video = document.createElement('video');\n",
        "      video.style.display = 'block';\n",
        "      video.width = div.clientWidth - 6;\n",
        "      video.setAttribute('playsinline', '');\n",
        "      video.onclick = () => { shutdown = true; };\n",
        "      stream = await navigator.mediaDevices.getUserMedia(\n",
        "          {video: { facingMode: \"environment\"}});\n",
        "      div.appendChild(video);\n",
        "\n",
        "      imgElement = document.createElement('img');\n",
        "      imgElement.style.position = 'absolute';\n",
        "      imgElement.style.zIndex = 1;\n",
        "      imgElement.onclick = () => { shutdown = true; };\n",
        "      div.appendChild(imgElement);\n",
        "      \n",
        "      const instruction = document.createElement('div');\n",
        "      instruction.innerHTML = \n",
        "          '<span style=\"color: red; font-weight: bold;\">' +\n",
        "          'When finished, click here or on the video to stop this demo</span>';\n",
        "      div.appendChild(instruction);\n",
        "      instruction.onclick = () => { shutdown = true; };\n",
        "      \n",
        "      video.srcObject = stream;\n",
        "      await video.play();\n",
        "\n",
        "      captureCanvas = document.createElement('canvas');\n",
        "      captureCanvas.width = 640; //video.videoWidth;\n",
        "      captureCanvas.height = 480; //video.videoHeight;\n",
        "      window.requestAnimationFrame(onAnimationFrame);\n",
        "      \n",
        "      return stream;\n",
        "    }\n",
        "    async function stream_frame(label, imgData) {\n",
        "      if (shutdown) {\n",
        "        removeDom();\n",
        "        shutdown = false;\n",
        "        return '';\n",
        "      }\n",
        "\n",
        "      var preCreate = Date.now();\n",
        "      stream = await createDom();\n",
        "      \n",
        "      var preShow = Date.now();\n",
        "      if (label != \"\") {\n",
        "        labelElement.innerHTML = label;\n",
        "      }\n",
        "            \n",
        "      if (imgData != \"\") {\n",
        "        var videoRect = video.getClientRects()[0];\n",
        "        imgElement.style.top = videoRect.top + \"px\";\n",
        "        imgElement.style.left = videoRect.left + \"px\";\n",
        "        imgElement.style.width = videoRect.width + \"px\";\n",
        "        imgElement.style.height = videoRect.height + \"px\";\n",
        "        imgElement.src = imgData;\n",
        "      }\n",
        "      \n",
        "      var preCapture = Date.now();\n",
        "      var result = await new Promise(function(resolve, reject) {\n",
        "        pendingResolve = resolve;\n",
        "      });\n",
        "      shutdown = false;\n",
        "      \n",
        "      return {'create': preShow - preCreate, \n",
        "              'show': preCapture - preShow, \n",
        "              'capture': Date.now() - preCapture,\n",
        "              'img': result};\n",
        "    }\n",
        "    ''')\n",
        "\n",
        "  display(js)"
      ]
    },
    {
      "cell_type": "code",
      "execution_count": null,
      "metadata": {
        "id": "ILtu81T7djBn"
      },
      "outputs": [],
      "source": [
        "def video_frame(label, bbox):\n",
        "  data = eval_js('stream_frame(\"{}\", \"{}\")'.format(label, bbox))\n",
        "  return data"
      ]
    },
    {
      "cell_type": "code",
      "execution_count": null,
      "metadata": {
        "id": "TBBlTujqdjBn"
      },
      "outputs": [],
      "source": [
        "def js_to_image(js_reply):\n",
        "  \"\"\"\n",
        "  Params:\n",
        "          js_reply: JavaScript object containing image from webcam\n",
        "  Returns:\n",
        "          img: OpenCV BGR image\n",
        "  \"\"\"\n",
        "  # decode base64 image\n",
        "  image_bytes = b64decode(js_reply.split(',')[1])\n",
        "  # convert bytes to numpy array\n",
        "  jpg_as_np = np.frombuffer(image_bytes, dtype=np.uint8)\n",
        "  # decode numpy array into OpenCV BGR image\n",
        "  img = cv2.imdecode(jpg_as_np, flags=1)\n",
        "\n",
        "  return img"
      ]
    },
    {
      "cell_type": "markdown",
      "metadata": {
        "id": "hkRPwhcNdjBo"
      },
      "source": [
        "# 5 Download model from git repository"
      ]
    },
    {
      "cell_type": "code",
      "execution_count": null,
      "metadata": {
        "id": "xqOc9Q1FtDE7",
        "colab": {
          "base_uri": "https://localhost:8080/",
          "height": 108
        },
        "outputId": "e9dafbe7-8691-41c9-e134-3ca51e900f0d"
      },
      "outputs": [
        {
          "output_type": "stream",
          "name": "stderr",
          "text": [
            "Downloading...\n",
            "From: https://github.com/jarammm/YOLOv1/releases/download/v0.0.0/yolo_weights.pth\n",
            "To: /content/YOLOv1/model/yolo_weights.pth\n",
            "100%|██████████| 1.02G/1.02G [00:22<00:00, 44.8MB/s]\n"
          ]
        },
        {
          "output_type": "execute_result",
          "data": {
            "text/plain": [
              "'model/yolo_weights.pth'"
            ],
            "application/vnd.google.colaboratory.intrinsic+json": {
              "type": "string"
            }
          },
          "metadata": {},
          "execution_count": 9
        }
      ],
      "source": [
        "from utils import *\n",
        "from yolo import *\n",
        "import torch\n",
        "from torch import nn, tensor\n",
        "import torchvision\n",
        "import cv2\n",
        "import gdown\n",
        "from pathlib import Path\n",
        "from google.colab.output import eval_js\n",
        "\n",
        "\n",
        "url=\"https://github.com/jarammm/YOLOv1/releases/download/v1.0.0/yolo_weights.pth\"\n",
        "model_weight_path = 'model/yolo_weights.pth'\n",
        "dir_to_save = 'model'\n",
        "Path(dir_to_save).mkdir(parents=True, exist_ok=True)\n",
        "\n",
        "\n",
        "gdown.download(url, model_weight_path, quiet=False)"
      ]
    },
    {
      "cell_type": "markdown",
      "metadata": {
        "id": "ixFFgWI9djBo"
      },
      "source": [
        "# 6 Load model"
      ]
    },
    {
      "cell_type": "code",
      "execution_count": null,
      "metadata": {
        "colab": {
          "base_uri": "https://localhost:8080/"
        },
        "id": "XxcuIYaTpTjL",
        "outputId": "97db6eb9-1b56-4261-c124-336e93c32e76"
      },
      "outputs": [
        {
          "output_type": "stream",
          "name": "stderr",
          "text": [
            "/usr/local/lib/python3.8/dist-packages/torchvision/models/_utils.py:208: UserWarning: The parameter 'pretrained' is deprecated since 0.13 and may be removed in the future, please use 'weights' instead.\n",
            "  warnings.warn(\n",
            "/usr/local/lib/python3.8/dist-packages/torchvision/models/_utils.py:223: UserWarning: Arguments other than a weight enum or `None` for 'weights' are deprecated since 0.13 and may be removed in the future. The current behavior is equivalent to passing `weights=ResNet18_Weights.IMAGENET1K_V1`. You can also use `weights=ResNet18_Weights.DEFAULT` to get the most up-to-date weights.\n",
            "  warnings.warn(msg)\n"
          ]
        },
        {
          "output_type": "execute_result",
          "data": {
            "text/plain": [
              "<All keys matched successfully>"
            ]
          },
          "metadata": {},
          "execution_count": 11
        }
      ],
      "source": [
        "model_weight_path = '/content/YOLOv1/model/yolo_weights.pth'\n",
        "\n",
        "resnet18 = torchvision.models.resnet18(pretrained=True)\n",
        "backbone = nn.Sequential(*list(resnet18.children())[:-2]) # remove avg pool and fc\n",
        "net = yolo.Yolo(backbone, backbone_out_channels=512)\n",
        "\n",
        "net.load_state_dict(torch.load(model_weight_path))"
      ]
    },
    {
      "cell_type": "markdown",
      "source": [
        "# 7 Run Real-time Object-detection"
      ],
      "metadata": {
        "id": "QSFuHAh0H2YU"
      }
    },
    {
      "cell_type": "code",
      "execution_count": null,
      "metadata": {
        "id": "x9xhJvAtp4nE"
      },
      "outputs": [],
      "source": [
        "from utils import *\n",
        "from yolo import *\n",
        "import torch\n",
        "from torch import nn, tensor\n",
        "import torchvision\n",
        "import cv2\n",
        "import gdown\n",
        "from pathlib import Path\n",
        "from google.colab.output import eval_js\n",
        "from google.colab.patches import cv2_imshow\n",
        "\n",
        "\n",
        "net.eval()\n",
        "net.to('cuda')\n",
        "\n",
        "video_stream()\n",
        "label_html = 'Capturing...'\n",
        "bbox = ''\n",
        "\n",
        "while True:\n",
        "\tjs_reply = video_frame(label_html, bbox)\n",
        "\n",
        "\tif not js_reply:\n",
        "\t\tbreak\n",
        "\t\n",
        "\t# convert JS response to OpenCV Image\n",
        "\tframe = js_to_image(js_reply[\"img\"])\n",
        " \n",
        "\timg = torchvision.transforms.functional.resize(cv2_to_PIL(frame), (448, 448))\n",
        "\tto_tensor = torchvision.transforms.ToTensor()\n",
        "\tX = to_tensor(img).unsqueeze_(0).to('cuda')\n",
        "\t# X = to_tensor(img).unsqueeze_(0)\n",
        "\tYHat = net(X)\n",
        "\tfor x, yhat in zip(X, YHat):\n",
        "\t\tyhat = nms(yhat)\n",
        "\t\tcv2_imshow(draw_detection_result(tensor_to_cv2(x), yhat, raw=False, thres=0.1))\n",
        "\n",
        "\tcv2.waitKey(1)"
      ]
    },
    {
      "cell_type": "code",
      "execution_count": null,
      "metadata": {
        "id": "DsNX4-a3sRm6"
      },
      "outputs": [],
      "source": []
    }
  ],
  "metadata": {
    "accelerator": "GPU",
    "colab": {
      "provenance": [],
      "include_colab_link": true
    },
    "gpuClass": "standard",
    "kernelspec": {
      "display_name": "Python 3.8.6 64-bit",
      "language": "python",
      "name": "python3"
    },
    "language_info": {
      "name": "python",
      "version": "3.8.6"
    },
    "vscode": {
      "interpreter": {
        "hash": "f38a6c91ce32564a4dac2f77dd9940243fcd3ebab146cb4a7c4e8638f4b30ddd"
      }
    }
  },
  "nbformat": 4,
  "nbformat_minor": 0
}